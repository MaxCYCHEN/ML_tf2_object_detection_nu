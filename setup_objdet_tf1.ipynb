{
 "cells": [
  {
   "cell_type": "markdown",
   "id": "f419c341-8681-4007-9e82-3fa1f697b666",
   "metadata": {},
   "source": [
    "# Test Tensorflow 1\n",
    "---\n",
    "- Please excute the block below"
   ]
  },
  {
   "cell_type": "code",
   "execution_count": 1,
   "id": "c719619b-bf0d-4625-97bb-1c5b1594f5be",
   "metadata": {},
   "outputs": [
    {
     "name": "stdout",
     "output_type": "stream",
     "text": [
      "b'Hello, TensorFlow!'\n"
     ]
    }
   ],
   "source": [
    "import tensorflow as tf\n",
    "\n",
    "hello = tf.constant('Hello, TensorFlow!')\n",
    "sess = tf.compat.v1.Session()\n",
    "print(sess.run(hello))"
   ]
  },
  {
   "cell_type": "markdown",
   "id": "3c4662bb-ac11-4ba5-93d7-826c2b9044af",
   "metadata": {},
   "source": [
    "# TF1 Object Detection API installation\n",
    "---\n",
    "- Please run the below block to install automatically.\n",
    "- It includes 3 parts:\n",
    "\n",
    "###    Protobuf Installation\n",
    "   - SKIP. This is done at `setup_objdet_tf2.ipynb`.\n",
    "### COCO API installation\n",
    "   - Git+pip install coco API\n",
    "### Install the Object Detection API\n",
    "   - Fix a cocoeval.py in env\n",
    "   - install obj_det_api\n",
    "   - Fix a builder.py in env\n",
    "   - Check and fix proto folder missing at object_detection in env"
   ]
  },
  {
   "cell_type": "code",
   "execution_count": null,
   "id": "46429bab-7fda-4bef-8acb-88226532a4bb",
   "metadata": {},
   "outputs": [],
   "source": [
    "!python obj_setup_tf1.py --fix_protobuf_builder"
   ]
  }
 ],
 "metadata": {
  "kernelspec": {
   "display_name": "Python 3 (ipykernel)",
   "language": "python",
   "name": "python3"
  },
  "language_info": {
   "codemirror_mode": {
    "name": "ipython",
    "version": 3
   },
   "file_extension": ".py",
   "mimetype": "text/x-python",
   "name": "python",
   "nbconvert_exporter": "python",
   "pygments_lexer": "ipython3",
   "version": "3.7.13"
  },
  "toc-autonumbering": true,
  "toc-showmarkdowntxt": false
 },
 "nbformat": 4,
 "nbformat_minor": 5
}
