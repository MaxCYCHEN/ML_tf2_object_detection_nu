{
 "cells": [
  {
   "cell_type": "markdown",
   "id": "adebf346-c09c-4055-9bb8-43cd69c69cc7",
   "metadata": {},
   "source": [
    "# TensorFlow1 Object Detection Env Creating\n",
    "\n",
    "- This install procedure is reference from [here](https://tensorflow-object-detection-api-tutorial.readthedocs.io/en/latest/install.html), which has more detail, but this notebook help you create this env more easily. \n",
    "- pycocotool & object-detection need to be installed individually\n",
    "- It is recommended to copy the cmds below and use CMD, PowerShell or terminal outside this notebook.\n",
    "- Please follow the 2~6 steps"
   ]
  },
  {
   "cell_type": "markdown",
   "id": "ded3dd25-a0ee-440c-94a2-f68a45cef5f9",
   "metadata": {},
   "source": [
    "# Download the `ML_tf2_object_detection_nu`\n",
    "---\n",
    "- What this directory looks like:\n",
    "- <pre>ML_tf2_object_detection_nu/\n",
    "├─ image_dataset/\n",
    "|    └─...\n",
    "├─ models/\n",
    "|    └─...\n",
    "├─ preTrainModelUsed/\n",
    "|    └─...\n",
    "├─ tool/\n",
    "|    └─...\n",
    "├─ workspace/\n",
    "|    └─...\n",
    "├─ setup_objdet_tf1_env.ipynb\n",
    "├─ setup_objdet_tf2_env.ipynb\n",
    "├─ tf1_cpu.yml\n",
    "├─ tf2_cpu.yml\n",
    "└─ ...\n",
    "</pre>"
   ]
  },
  {
   "cell_type": "markdown",
   "id": "3b44ab7a-886e-4023-80d2-c47e5d68b98e",
   "metadata": {},
   "source": [
    "## TensorFlow Model Garden\n",
    "- If you are opening this notebook, you should already download this object_detection tool. You can skip this step.\n",
    "- TensorFlow Model Garden is already prepared in this directory."
   ]
  },
  {
   "cell_type": "markdown",
   "id": "fabc0845-86fa-4673-a54d-7d8428ee67ce",
   "metadata": {},
   "source": [
    "## Alternative way to download newest TensorFlow Model Garden\n",
    "- How to download and prepare it from Google's tutorial is [here](https://tensorflow-object-detection-api-tutorial.readthedocs.io/en/latest/install.html#downloading-the-tensorflow-model-garden) "
   ]
  },
  {
   "cell_type": "markdown",
   "id": "635442cf-fe79-4889-af20-795dae1d3fc4",
   "metadata": {},
   "source": [
    "# Create Tensorflow object detection env\n",
    "---\n",
    "- Please excute the below commands at CMD or PowerShell Prompt."
   ]
  },
  {
   "cell_type": "markdown",
   "id": "53ccf621-a97e-44f1-b270-be37200ebf05",
   "metadata": {},
   "source": [
    "## Create an Env\n",
    "- create a virtual env and preinstall some needed libraries at once"
   ]
  },
  {
   "cell_type": "code",
   "execution_count": null,
   "id": "2d7ff6fb-cc7e-4385-9795-030f815f4fc2",
   "metadata": {},
   "outputs": [],
   "source": [
    "conda env create -f tf1_cpu.yml"
   ]
  },
  {
   "cell_type": "markdown",
   "id": "1532d0a6-e448-4915-81e8-6c3f0be8db51",
   "metadata": {},
   "source": [
    "- Active this new env"
   ]
  },
  {
   "cell_type": "code",
   "execution_count": null,
   "id": "a444f0ef-73d7-49de-be3a-ac53ff7ffda6",
   "metadata": {},
   "outputs": [],
   "source": [
    "conda activate obj_det_tf1_cpu"
   ]
  },
  {
   "cell_type": "markdown",
   "id": "6248b52e-47df-407c-bba2-b2e13e12376d",
   "metadata": {},
   "source": [
    "- Examine your install(optional)"
   ]
  },
  {
   "cell_type": "code",
   "execution_count": null,
   "id": "ebd4ccdd-d675-4dff-a578-a9ac99a26ec1",
   "metadata": {},
   "outputs": [],
   "source": [
    "pip list"
   ]
  },
  {
   "cell_type": "markdown",
   "id": "07908493-627e-4957-a913-da972f80076f",
   "metadata": {},
   "source": [
    "- show all the environment"
   ]
  },
  {
   "cell_type": "code",
   "execution_count": null,
   "id": "27a2c496-6956-4acb-aae3-cb54727bf0e4",
   "metadata": {},
   "outputs": [],
   "source": [
    "conda env list"
   ]
  },
  {
   "cell_type": "markdown",
   "id": "650d2309-460c-483f-b911-f581d0277749",
   "metadata": {},
   "source": [
    "- if the install is fail, please update conda"
   ]
  },
  {
   "cell_type": "code",
   "execution_count": null,
   "id": "5bc18b25-8d06-415c-99d6-355ad72c277c",
   "metadata": {},
   "outputs": [],
   "source": [
    "conda update -n base -c defaults conda"
   ]
  },
  {
   "cell_type": "markdown",
   "id": "f419c341-8681-4007-9e82-3fa1f697b666",
   "metadata": {},
   "source": [
    "## Test Tensorflow\n",
    "- Please excute the block below"
   ]
  },
  {
   "cell_type": "code",
   "execution_count": 1,
   "id": "c719619b-bf0d-4625-97bb-1c5b1594f5be",
   "metadata": {},
   "outputs": [
    {
     "name": "stdout",
     "output_type": "stream",
     "text": [
      "b'Hello, TensorFlow!'\n"
     ]
    }
   ],
   "source": [
    "import tensorflow as tf\n",
    "\n",
    "hello = tf.constant('Hello, TensorFlow!')\n",
    "sess = tf.compat.v1.Session()\n",
    "print(sess.run(hello))"
   ]
  },
  {
   "cell_type": "markdown",
   "id": "7c5dcfd5-92ab-4ff1-9109-5c779b9a632b",
   "metadata": {},
   "source": [
    "- ISSUE:\n",
    "- If there is an error`TypeError: Descriptors cannot not be created directly.`, \n",
    "- Please `pip uninstall protobuf` and `pip install protobuf==3.20.*` "
   ]
  },
  {
   "cell_type": "markdown",
   "id": "7a560716-ca0d-4a1f-96bc-daf15b392b13",
   "metadata": {},
   "source": [
    "# Protobuf Installation\n",
    "---\n",
    "- Please excute the below commands at CMD or PowerShell Prompt at the `ML_tf2_object_detection_nu` folder.\n",
    "- If you have already installed `setup_object_tf2_env.ipynb`, skip Protobuf step."
   ]
  },
  {
   "cell_type": "markdown",
   "id": "9bc89eff-1c61-4489-822b-78f675b8edc8",
   "metadata": {},
   "source": [
    "## Download\n",
    "- [Download](https://github.com/protocolbuffers/protobuf/releases) the latest `protoc-*-*.zip` release for your OS version, for example: `protoc-21.9-win64.zip` \n",
    "- Create a directory `C:\\Program Files\\Google Protobuf`.  Extract the contents of the downloaded `protoc-*-*.zip` in this directory.\n"
   ]
  },
  {
   "cell_type": "markdown",
   "id": "253a7df1-100c-4e8e-aaf6-50b556be350c",
   "metadata": {},
   "source": [
    "## Environment Variable\n",
    "- Execute the `protobuf_path.bat` below this folder `tool\\`\n",
    "- The other way is user manually add Path environment variable, for example `C:\\Program Files\\Google Protobuf\\bin`, please see [ Environment Setup](https://tensorflow-object-detection-api-tutorial.readthedocs.io/en/latest/install.html#environment-setup)"
   ]
  },
  {
   "cell_type": "markdown",
   "id": "f3aad262-22a4-4bca-b456-41b4c0b8e89e",
   "metadata": {},
   "source": [
    "## Compile Protobuf\n",
    "- cd into `models/research/` directory and run the following command:"
   ]
  },
  {
   "cell_type": "code",
   "execution_count": null,
   "id": "f7e18cfe-a73f-405f-9418-8238f8eb71cc",
   "metadata": {},
   "outputs": [],
   "source": [
    "protoc object_detection/protos/*.proto --python_out=."
   ]
  },
  {
   "cell_type": "markdown",
   "id": "d6584234-a604-4b0a-8125-a41b3a83b5de",
   "metadata": {},
   "source": [
    "# COCO API installation\n",
    "---\n",
    "- According to the package’s instructions, Visual C++ 2015 build tools must be installed and on your path.\n",
    "- If you have already installed `setup_object_tf2_env.ipynb`, skip `5.1. Install Visual C++ 2015 build tools` and `5.2. Environment Variable`. \n",
    "- However please run `5.3. Install coco API` and `5.4. ISSUE` at new env. "
   ]
  },
  {
   "cell_type": "markdown",
   "id": "50e36305-7928-4067-a95e-002616023054",
   "metadata": {},
   "source": [
    "## Install Visual C++ 2015 build tools\n",
    "-  登入 https://my.visualstudio.com/Downloads （必須要有微軟的帳號，沒有帳號的話可免費註冊一個）。\n",
    "-  輸入 Build Tools \n",
    "-  勾選左邊的 Visual Studio 2015 Update 3\n",
    "-  在 「Visual C++ Build Tools......」 這個項目下選 DVD \n",
    "-  點擊 Download\n",
    "-  安裝，選擇預設，並且勾選 Windows 10 SDK 項目\n",
    "- <img src=\"tool/Visual_Build_Tools_2015.png\" width=\"800\" height=\"500\">"
   ]
  },
  {
   "cell_type": "markdown",
   "id": "c487d694-b5a6-408e-b784-cc2cd2730717",
   "metadata": {},
   "source": [
    "## Environment Variable\n",
    "- Please check the below picture\n",
    "- Variable name: `VCINSTALLDIR`\n",
    "- Variable value: `C:\\Program Files (x86)\\Microsoft Visual Studio 14.0\\VC` (Please use your location of Microsoft Visual Studio 14.0)\n",
    "- <img src=\"tool/env_variable_VC.png\" width=\"700\" height=\"400\">"
   ]
  },
  {
   "cell_type": "markdown",
   "id": "6610e61c-8dd8-4928-8a4e-0dab4cad5961",
   "metadata": {},
   "source": [
    "## Install coco API"
   ]
  },
  {
   "cell_type": "code",
   "execution_count": null,
   "id": "a0c82f27-a55f-440f-aa49-379f70faaef7",
   "metadata": {},
   "outputs": [],
   "source": [
    "pip install git+https://github.com/philferriere/cocoapi.git#subdirectory=PythonAPI"
   ]
  },
  {
   "cell_type": "markdown",
   "id": "8ccda114-1317-49bb-b37b-47bc25a9acbc",
   "metadata": {},
   "source": [
    "## ISSUE:"
   ]
  },
  {
   "cell_type": "markdown",
   "id": "9eb77129-4b08-433b-be9b-fa8f0cc9f24c",
   "metadata": {},
   "source": [
    "###\n",
    "- coco API bug update (Windows user must do this)\n",
    "    - If you run into an error `TypeError: ‘numpy.float64’ object cannot be interpreted as an integer`.\n",
    "    - The issue file is in site-packages of your envs, for example: `C:\\ProgramData\\Anaconda3\\envs\\obj_det_tf1_cpu\\Lib\\site-packages\\pycocotools\\cocoeval.py`, so if there is different on the location, please update `dst_location`\n",
    "    - Excute the next block to update the cocoeval.py\n",
    "    - if you are linux user, please re-install the newest cocoapi. ([Fix cocoapi typeerror](https://blog.csdn.net/flyfish1986/article/details/104513632))\n",
    "    "
   ]
  },
  {
   "cell_type": "code",
   "execution_count": 6,
   "id": "c6a25eeb-8340-4269-9691-d8f11c383db4",
   "metadata": {},
   "outputs": [
    {
     "data": {
      "text/plain": [
       "'C:/ProgramData/Anaconda3/envs/obj_det_tf1_cpu/Lib/site-packages/pycocotools/cocoeval.py'"
      ]
     },
     "execution_count": 6,
     "metadata": {},
     "output_type": "execute_result"
    }
   ],
   "source": [
    "dst_location = 'C:/ProgramData/Anaconda3/envs/obj_det_tf1_cpu/Lib/site-packages/pycocotools/cocoeval.py'\n",
    "\n",
    "import os\n",
    "import shutil\n",
    "src_location = os.getcwd()\n",
    "src_location = os.path.join(src_location, 'tool/cocoeval.py')\n",
    "shutil.copyfile(src_location, dst_location)"
   ]
  },
  {
   "cell_type": "markdown",
   "id": "3c70934c-75b4-40f7-86e3-10443637f46a",
   "metadata": {},
   "source": [
    "###\n",
    "- If `from pycocotools.coco import COCO` error latter, please try the following"
   ]
  },
  {
   "cell_type": "code",
   "execution_count": null,
   "id": "8972da7a-aac8-4fd4-97c2-da046a1edf94",
   "metadata": {},
   "outputs": [],
   "source": [
    "pip3 uninstall numpy"
   ]
  },
  {
   "cell_type": "code",
   "execution_count": null,
   "id": "69acef67-70cf-4bbf-9487-47ba2b2db0d2",
   "metadata": {},
   "outputs": [],
   "source": [
    "pip3 install numpy==1.23.1"
   ]
  },
  {
   "cell_type": "markdown",
   "id": "74139bdd-a71d-43e1-978a-0aa993382b6d",
   "metadata": {},
   "source": [
    "# Install the Object Detection API\n",
    "---"
   ]
  },
  {
   "cell_type": "markdown",
   "id": "ca2821c7-8450-458f-a61a-fad8d7f43f74",
   "metadata": {},
   "source": [
    "- Please excute the below block\n",
    "- This notebook should at the same location with `models/`"
   ]
  },
  {
   "cell_type": "code",
   "execution_count": 2,
   "id": "4badef6b-772b-4b43-b3f4-31d6e4f3cd1a",
   "metadata": {},
   "outputs": [
    {
     "name": "stdout",
     "output_type": "stream",
     "text": [
      "Current working directory: C:\\Users\\USERNAME\\image_detection\\install_test\\ML_tf2_object_detection_nu\n",
      "New working directory: C:\\Users\\USERNAME\\image_detection\\install_test\\ML_tf2_object_detection_nu\\models\\research\n",
      "Processing c:\\users\\USERNAME\\image_detection\\install_test\\ML_tf2_object_detection_nu\\models\\research\n",
      "  Preparing metadata (setup.py): started\n",
      "  Preparing metadata (setup.py): finished with status 'done'\n",
      "Requirement already satisfied: pillow in c:\\programdata\\anaconda3\\envs\\obj_det_tf1_cpu\\lib\\site-packages (from object-detection==0.1) (9.2.0)\n",
      "Requirement already satisfied: lxml in c:\\programdata\\anaconda3\\envs\\obj_det_tf1_cpu\\lib\\site-packages (from object-detection==0.1) (4.9.1)\n",
      "Requirement already satisfied: matplotlib in c:\\programdata\\anaconda3\\envs\\obj_det_tf1_cpu\\lib\\site-packages (from object-detection==0.1) (3.5.3)\n",
      "Requirement already satisfied: Cython in c:\\programdata\\anaconda3\\envs\\obj_det_tf1_cpu\\lib\\site-packages (from object-detection==0.1) (0.29.32)\n",
      "Requirement already satisfied: contextlib2 in c:\\programdata\\anaconda3\\envs\\obj_det_tf1_cpu\\lib\\site-packages (from object-detection==0.1) (21.6.0)\n",
      "Requirement already satisfied: tf-slim in c:\\programdata\\anaconda3\\envs\\obj_det_tf1_cpu\\lib\\site-packages (from object-detection==0.1) (1.1.0)\n",
      "Requirement already satisfied: six in c:\\programdata\\anaconda3\\envs\\obj_det_tf1_cpu\\lib\\site-packages (from object-detection==0.1) (1.16.0)\n",
      "Requirement already satisfied: pycocotools in c:\\programdata\\anaconda3\\envs\\obj_det_tf1_cpu\\lib\\site-packages (from object-detection==0.1) (2.0)\n",
      "Requirement already satisfied: lvis in c:\\programdata\\anaconda3\\envs\\obj_det_tf1_cpu\\lib\\site-packages (from object-detection==0.1) (0.5.3)\n",
      "Requirement already satisfied: scipy in c:\\programdata\\anaconda3\\envs\\obj_det_tf1_cpu\\lib\\site-packages (from object-detection==0.1) (1.7.3)\n",
      "Requirement already satisfied: pandas in c:\\programdata\\anaconda3\\envs\\obj_det_tf1_cpu\\lib\\site-packages (from object-detection==0.1) (1.3.5)\n",
      "Requirement already satisfied: numpy>=1.18.2 in c:\\programdata\\anaconda3\\envs\\obj_det_tf1_cpu\\lib\\site-packages (from lvis->object-detection==0.1) (1.18.5)\n",
      "Requirement already satisfied: pyparsing>=2.4.0 in c:\\programdata\\anaconda3\\envs\\obj_det_tf1_cpu\\lib\\site-packages (from lvis->object-detection==0.1) (3.0.9)\n",
      "Requirement already satisfied: kiwisolver>=1.1.0 in c:\\programdata\\anaconda3\\envs\\obj_det_tf1_cpu\\lib\\site-packages (from lvis->object-detection==0.1) (1.4.4)\n",
      "Requirement already satisfied: python-dateutil>=2.8.0 in c:\\programdata\\anaconda3\\envs\\obj_det_tf1_cpu\\lib\\site-packages (from lvis->object-detection==0.1) (2.8.2)\n",
      "Requirement already satisfied: cycler>=0.10.0 in c:\\programdata\\anaconda3\\envs\\obj_det_tf1_cpu\\lib\\site-packages (from lvis->object-detection==0.1) (0.11.0)\n",
      "Requirement already satisfied: opencv-python>=4.1.0.25 in c:\\programdata\\anaconda3\\envs\\obj_det_tf1_cpu\\lib\\site-packages (from lvis->object-detection==0.1) (4.6.0.66)\n",
      "Requirement already satisfied: packaging>=20.0 in c:\\programdata\\anaconda3\\envs\\obj_det_tf1_cpu\\lib\\site-packages (from matplotlib->object-detection==0.1) (21.3)\n",
      "Requirement already satisfied: fonttools>=4.22.0 in c:\\programdata\\anaconda3\\envs\\obj_det_tf1_cpu\\lib\\site-packages (from matplotlib->object-detection==0.1) (4.38.0)\n",
      "Requirement already satisfied: pytz>=2017.3 in c:\\programdata\\anaconda3\\envs\\obj_det_tf1_cpu\\lib\\site-packages (from pandas->object-detection==0.1) (2022.1)\n",
      "Requirement already satisfied: absl-py>=0.2.2 in c:\\programdata\\anaconda3\\envs\\obj_det_tf1_cpu\\lib\\site-packages (from tf-slim->object-detection==0.1) (1.3.0)\n",
      "Requirement already satisfied: typing-extensions in c:\\programdata\\anaconda3\\envs\\obj_det_tf1_cpu\\lib\\site-packages (from kiwisolver>=1.1.0->lvis->object-detection==0.1) (4.4.0)\n",
      "Building wheels for collected packages: object-detection\n",
      "  Building wheel for object-detection (setup.py): started\n",
      "  Building wheel for object-detection (setup.py): finished with status 'done'\n",
      "  Created wheel for object-detection: filename=object_detection-0.1-py3-none-any.whl size=1674068 sha256=1f85459b589489270278e1ba8836b109f4849e2b6c6c783a7a1590075c75112e\n",
      "  Stored in directory: C:\\Users\\USERNAME\\AppData\\Local\\Temp\\pip-ephem-wheel-cache-ep7sy6le\\wheels\\30\\27\\ba\\a3c81895e207c830365be5b24f335b550a7570c2b663ed32ba\n",
      "Successfully built object-detection\n",
      "Installing collected packages: object-detection\n",
      "Successfully installed object-detection-0.1\n",
      "Change back working directory: C:\\Users\\USERNAME\\image_detection\\install_test\\ML_tf2_object_detection_nu\n"
     ]
    }
   ],
   "source": [
    "import os\n",
    "import shutil\n",
    "cwd = os.getcwd()\n",
    "print(\"Current working directory: {0}\".format(cwd))\n",
    "new_path = os.path.join(cwd, \"models\", \"research\")\n",
    "print(\"New working directory: {0}\".format(new_path))\n",
    "os.chdir(new_path)\n",
    "\n",
    "## copy setup\n",
    "dst_setup = os.path.join(new_path, \"setup.py\")\n",
    "src_setup = os.path.join(new_path, \"object_detection\", \"packages\", \"tf1\", \"setup.py\")\n",
    "shutil.copyfile(src_setup, dst_setup)\n",
    "##\n",
    "!python -m pip install .\n",
    "\n",
    "os.chdir(cwd)\n",
    "print(\"Change back working directory: {0}\".format(cwd))"
   ]
  },
  {
   "cell_type": "code",
   "execution_count": null,
   "id": "62c1f536-6626-47ab-b73e-9511d79dd1dc",
   "metadata": {},
   "outputs": [],
   "source": []
  }
 ],
 "metadata": {
  "kernelspec": {
   "display_name": "Python 3 (ipykernel)",
   "language": "python",
   "name": "python3"
  },
  "language_info": {
   "codemirror_mode": {
    "name": "ipython",
    "version": 3
   },
   "file_extension": ".py",
   "mimetype": "text/x-python",
   "name": "python",
   "nbconvert_exporter": "python",
   "pygments_lexer": "ipython3",
   "version": "3.8.13"
  },
  "toc-autonumbering": true,
  "toc-showmarkdowntxt": false
 },
 "nbformat": 4,
 "nbformat_minor": 5
}
