{
 "cells": [
  {
   "cell_type": "markdown",
   "id": "282713a3-ef0c-4396-bdca-9176b0df26a9",
   "metadata": {},
   "source": [
    "# Test Tensorflow 2\n",
    "---\n",
    "- Please excute the block below"
   ]
  },
  {
   "cell_type": "code",
   "execution_count": 1,
   "id": "e6ba9b84-c2f0-4b41-8021-875ad74fd3a5",
   "metadata": {},
   "outputs": [
    {
     "name": "stdout",
     "output_type": "stream",
     "text": [
      "tf.Tensor(1029.7098, shape=(), dtype=float32)\n"
     ]
    }
   ],
   "source": [
    "import tensorflow as tf\n",
    "\n",
    "print(tf.reduce_sum(tf.random.normal([1000, 1000])))"
   ]
  },
  {
   "cell_type": "markdown",
   "id": "c78c5689-1b77-44b5-bfb8-9dd1f7263f96",
   "metadata": {},
   "source": [
    "# TF2 Object Detection API installation\n",
    "---\n",
    "- Please run the below block to install automatically.\n",
    "- It includes 3 parts:\n",
    "### Protobuf Installation\n",
    "   - Download `protoc-21.9-win64.zip`, extract, and create folders.\n",
    "   - Compile Protobuf in `models/research/`\n",
    "### COCO API installation\n",
    "   - Git+pip install coco API\n",
    "### Install the Object Detection API\n",
    "   - Fix a cocoeval.py in env\n",
    "   - install obj_det_api\n",
    "   - Fix a builder.py in env\n",
    "   - Check and fix proto folder missing at object_detection in env"
   ]
  },
  {
   "cell_type": "code",
   "execution_count": null,
   "id": "67181b35-31fc-4837-be9d-71ce1b327934",
   "metadata": {},
   "outputs": [],
   "source": [
    "!python obj_setup_tf2.py --fix_protobuf_builder"
   ]
  },
  {
   "cell_type": "markdown",
   "id": "ae9e14c2-7132-4ccd-b2ee-95ba207d2e02",
   "metadata": {},
   "source": [
    "# Test your Installation"
   ]
  },
  {
   "cell_type": "code",
   "execution_count": null,
   "id": "bcd6eb6a-3dbc-494e-b5ca-7fdc8767f06b",
   "metadata": {},
   "outputs": [],
   "source": [
    "import os\n",
    "cwd = os.getcwd()\n",
    "print(\"Current working directory: {0}\".format(cwd))\n",
    "new_path = os.path.join(cwd, \"models\", \"research\")\n",
    "print(\"New working directory: {0}\".format(new_path))\n",
    "os.chdir(new_path)\n",
    "\n",
    "##\n",
    "!python object_detection/builders/model_builder_tf2_test.py.\n",
    "\n",
    "os.chdir(cwd)\n",
    "print(\"Change back working directory: {0}\".format(cwd))"
   ]
  }
 ],
 "metadata": {
  "kernelspec": {
   "display_name": "Python 3 (ipykernel)",
   "language": "python",
   "name": "python3"
  },
  "language_info": {
   "codemirror_mode": {
    "name": "ipython",
    "version": 3
   },
   "file_extension": ".py",
   "mimetype": "text/x-python",
   "name": "python",
   "nbconvert_exporter": "python",
   "pygments_lexer": "ipython3",
   "version": "3.7.13"
  },
  "toc-autonumbering": true,
  "toc-showmarkdowntxt": true
 },
 "nbformat": 4,
 "nbformat_minor": 5
}
