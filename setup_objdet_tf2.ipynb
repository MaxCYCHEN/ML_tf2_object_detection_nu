{
 "cells": [
  {
   "cell_type": "markdown",
   "id": "282713a3-ef0c-4396-bdca-9176b0df26a9",
   "metadata": {},
   "source": [
    "# Test Tensorflow\n",
    "- Please excute the block below"
   ]
  },
  {
   "cell_type": "code",
   "execution_count": 1,
   "id": "e6ba9b84-c2f0-4b41-8021-875ad74fd3a5",
   "metadata": {},
   "outputs": [
    {
     "name": "stdout",
     "output_type": "stream",
     "text": [
      "tf.Tensor(676.63, shape=(), dtype=float32)\n"
     ]
    }
   ],
   "source": [
    "import tensorflow as tf\n",
    "\n",
    "print(tf.reduce_sum(tf.random.normal([1000, 1000])))"
   ]
  },
  {
   "cell_type": "markdown",
   "id": "ac6161c1-30bc-44f9-b470-1f85af99671a",
   "metadata": {},
   "source": [
    "# Protobuf Installation\n",
    "---\n",
    "- If you have already installed `setup_object_tf1_env.ipynb`, skip Protobuf step.\n",
    "- This script includs: \n",
    "    - Download `protoc-21.9-win64.zip`, extract, and create folders. \n",
    "    - Set Environment Variable.\n",
    "    - Compile Protobuf in `models/research/`"
   ]
  },
  {
   "cell_type": "code",
   "execution_count": null,
   "id": "abfd5368-dbc2-42f9-a3d3-8b2678dcb2dc",
   "metadata": {},
   "outputs": [],
   "source": [
    "!python protobuf_setup.py"
   ]
  },
  {
   "cell_type": "markdown",
   "id": "caf071f0-5a3c-45f2-9799-5c8d264061fc",
   "metadata": {},
   "source": [
    "# COCO API installation\n",
    "---\n",
    "- This script includs:\n",
    "    - Add Environment Variable\n",
    "    - Pip install coco API\n",
    "    - Update an issue python file in coco package"
   ]
  },
  {
   "cell_type": "markdown",
   "id": "634e67f9-93fe-4de7-a818-3da975fbfa8b",
   "metadata": {},
   "source": [
    "## Install coco API"
   ]
  },
  {
   "cell_type": "code",
   "execution_count": null,
   "id": "11d75306-938b-4d81-8dd2-1024b9b06619",
   "metadata": {},
   "outputs": [],
   "source": [
    "!python cocoapi_setup.py "
   ]
  },
  {
   "cell_type": "markdown",
   "id": "a0629dac-4d36-43e2-8e0b-d0aebfd8b877",
   "metadata": {},
   "source": [
    "# Install the Object Detection API\n",
    "---"
   ]
  },
  {
   "cell_type": "code",
   "execution_count": null,
   "id": "2e041055-3332-4e79-b0c2-dddfec8137ab",
   "metadata": {},
   "outputs": [],
   "source": [
    "!python obj_det_api_setup.py --fix_protobuf_builder"
   ]
  },
  {
   "cell_type": "markdown",
   "id": "ae9e14c2-7132-4ccd-b2ee-95ba207d2e02",
   "metadata": {},
   "source": [
    "# Test your Installation"
   ]
  },
  {
   "cell_type": "code",
   "execution_count": null,
   "id": "752f614c-5dc7-4fc5-855a-5c27cb477c74",
   "metadata": {},
   "outputs": [],
   "source": [
    "import os\n",
    "cwd = os.getcwd()\n",
    "print(\"Current working directory: {0}\".format(cwd))\n",
    "new_path = os.path.join(cwd, \"models\", \"research\")\n",
    "print(\"New working directory: {0}\".format(new_path))\n",
    "os.chdir(new_path)\n",
    "\n",
    "##\n",
    "!python object_detection/builders/model_builder_tf2_test.py.\n",
    "\n",
    "os.chdir(cwd)\n",
    "print(\"Change back working directory: {0}\".format(cwd))"
   ]
  }
 ],
 "metadata": {
  "kernelspec": {
   "display_name": "Python 3 (ipykernel)",
   "language": "python",
   "name": "python3"
  },
  "language_info": {
   "codemirror_mode": {
    "name": "ipython",
    "version": 3
   },
   "file_extension": ".py",
   "mimetype": "text/x-python",
   "name": "python",
   "nbconvert_exporter": "python",
   "pygments_lexer": "ipython3",
   "version": "3.8.13"
  },
  "toc-autonumbering": true,
  "toc-showmarkdowntxt": true
 },
 "nbformat": 4,
 "nbformat_minor": 5
}
