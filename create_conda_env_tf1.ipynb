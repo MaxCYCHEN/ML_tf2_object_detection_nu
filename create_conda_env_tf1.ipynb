{
 "cells": [
  {
   "cell_type": "markdown",
   "id": "79b38a83-858c-4d0f-861f-1bbb23e21b67",
   "metadata": {},
   "source": [
    "# TensorFlow1 Object Detection Env Creating\n",
    "---\n",
    "- This install procedure is reference from [here](https://tensorflow-object-detection-api-tutorial.readthedocs.io/en/latest/install.html), which has more detail, but this notebook help you create this env more easily.\n",
    "- Before install this, user should follow `readme.md` and install TensorFlow2 version object detection first (check `create_conda_env_tf2.ipynb`).\n"
   ]
  },
  {
   "cell_type": "markdown",
   "id": "95a56fca-507f-411a-94c5-d63276acb0da",
   "metadata": {},
   "source": [
    "# The structure of `tf2_object_detection_nu`\n",
    "---\n",
    "- What this directory looks like:\n",
    "- <pre>tf2_object_detection_nu/\n",
    "├─ image_dataset/\n",
    "|    └─...\n",
    "├─ models/\n",
    "|    └─...\n",
    "├─ preTrainModelUsed/\n",
    "|    └─...\n",
    "├─ tool/\n",
    "|    └─...\n",
    "├─ workspace/\n",
    "|    └─...\n",
    "├─ create_conda_env_tf1.ipynb (*we are here)\n",
    "├─ create_conda_env_tf2.ipynb \n",
    "├─ setup_objdet_tf1.ipynb\n",
    "├─ setup_objdet_tf2.ipynb\n",
    "├─ tf1_cpu.yml\n",
    "├─ tf2_cpu.yml\n",
    "└─ ...\n",
    "</pre>\n",
    "- (IMPORTANT) Please remain this notebook at the original directory sequence, because the following commands need the relative location."
   ]
  },
  {
   "cell_type": "markdown",
   "id": "7884655d-f19d-4c2a-a4ef-8be2a0ccd9be",
   "metadata": {},
   "source": [
    "## TensorFlow Model Garden\n",
    "- If you are opening this notebook, you should already download this object detection api. You can skip this step.\n",
    "- TensorFlow Model Garden is already prepared in this directory."
   ]
  },
  {
   "cell_type": "markdown",
   "id": "7c1c1a02-1793-403d-9ae2-aa0e08a104ed",
   "metadata": {},
   "source": [
    "## Alternative way to download newest TensorFlow Model Garden\n",
    "- How to download and prepare it from Google's tutorial is [here](https://tensorflow-object-detection-api-tutorial.readthedocs.io/en/latest/install.html#downloading-the-tensorflow-model-garden). After you download finish, replace the `models/` as new one."
   ]
  },
  {
   "cell_type": "markdown",
   "id": "917fb917-e131-4a3f-a491-3c05204755b7",
   "metadata": {},
   "source": [
    "# Create Tensorflow1 object detection env\n",
    "---\n",
    "- Create a virtual env and preinstall some needed libraries at once."
   ]
  },
  {
   "cell_type": "code",
   "execution_count": null,
   "id": "ffbb6d83-a79a-4ea3-8958-5005d83ad226",
   "metadata": {},
   "outputs": [],
   "source": [
    "!conda env create -f tf1_cpu.yml"
   ]
  },
  {
   "cell_type": "markdown",
   "id": "c1e59e04-22cb-4f2b-8b4f-99c9b15d5e88",
   "metadata": {},
   "source": [
    "# Add the Environment Variables\n",
    "- This part is done at `create_conda_env_tf2.ipynb`. If you didn't add this, please refer to it."
   ]
  },
  {
   "cell_type": "markdown",
   "id": "169b053b-0470-4752-abc9-bfd82ea56765",
   "metadata": {},
   "source": [
    "# Active this new env\n",
    "- Close this JupyterLab now.\n",
    "- Close the Anaconda and open it again with administrators. \n",
    "- Choose the new env as below picture.\n",
    "- Open again the JupyterLab, and now you can install/run the following program in `obj_det_tf1_cpu` env.\n",
    "- Open the next for the following install.\n",
    "- <img src=\"tool/choose_new_env_tf1.png\" width=\"800\" height=\"500\">"
   ]
  },
  {
   "cell_type": "code",
   "execution_count": null,
   "id": "75a5e664-3ec7-46c0-9270-8f2ec287cbb0",
   "metadata": {},
   "outputs": [],
   "source": []
  }
 ],
 "metadata": {
  "kernelspec": {
   "display_name": "Python 3 (ipykernel)",
   "language": "python",
   "name": "python3"
  },
  "language_info": {
   "codemirror_mode": {
    "name": "ipython",
    "version": 3
   },
   "file_extension": ".py",
   "mimetype": "text/x-python",
   "name": "python",
   "nbconvert_exporter": "python",
   "pygments_lexer": "ipython3",
   "version": "3.7.13"
  },
  "toc-autonumbering": true
 },
 "nbformat": 4,
 "nbformat_minor": 5
}
