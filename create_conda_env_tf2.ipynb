{
 "cells": [
  {
   "cell_type": "markdown",
   "id": "79b38a83-858c-4d0f-861f-1bbb23e21b67",
   "metadata": {},
   "source": [
    "# TensorFlow2 Object Detection Env Creating\n",
    "---\n",
    "- This install procedure is reference from [here](https://tensorflow-object-detection-api-tutorial.readthedocs.io/en/latest/install.html), which has more detail, but this notebook help you create this env more easily. \n",
    "- pycocotool & object-detection need to be installed individually.\n"
   ]
  },
  {
   "cell_type": "markdown",
   "id": "95a56fca-507f-411a-94c5-d63276acb0da",
   "metadata": {},
   "source": [
    "# The structure of `tf2_object_detection_nu`\n",
    "---\n",
    "- What this directory looks like:\n",
    "- <pre>tf2_object_detection_nu/\n",
    "├─ image_dataset/\n",
    "|    └─...\n",
    "├─ models/\n",
    "|    └─...\n",
    "├─ preTrainModelUsed/\n",
    "|    └─...\n",
    "├─ tool/\n",
    "|    └─...\n",
    "├─ workspace/\n",
    "|    └─...\n",
    "├─ setup_objdet_tf1_env.ipynb\n",
    "├─ create_conda_env_tf2.ipynb (*we are here)\n",
    "├─ setup_objdet_tf2.ipynb\n",
    "├─ tf1_cpu.yml\n",
    "├─ tf2_cpu.yml\n",
    "└─ ...\n",
    "</pre>\n",
    "- (IMPORTANT) Please remain this notebook at the original directory sequence, because the following commands need the relative location."
   ]
  },
  {
   "cell_type": "markdown",
   "id": "7884655d-f19d-4c2a-a4ef-8be2a0ccd9be",
   "metadata": {},
   "source": [
    "## TensorFlow Model Garden\n",
    "- If you are opening this notebook, you should already download this object detection api. You can skip this step.\n",
    "- TensorFlow Model Garden is already prepared in this directory."
   ]
  },
  {
   "cell_type": "markdown",
   "id": "7c1c1a02-1793-403d-9ae2-aa0e08a104ed",
   "metadata": {},
   "source": [
    "## Alternative way to download newest TensorFlow Model Garden\n",
    "- How to download and prepare it from Google's tutorial is [here](https://tensorflow-object-detection-api-tutorial.readthedocs.io/en/latest/install.html#downloading-the-tensorflow-model-garden). After you download finish, replace the `models/` as new one."
   ]
  },
  {
   "cell_type": "markdown",
   "id": "917fb917-e131-4a3f-a491-3c05204755b7",
   "metadata": {},
   "source": [
    "# Create Tensorflow object detection env\n",
    "---\n",
    "- Create a virtual env and preinstall some needed libraries at once."
   ]
  },
  {
   "cell_type": "code",
   "execution_count": null,
   "id": "8698c34a-87a6-4a59-b37b-7edf785adaeb",
   "metadata": {},
   "outputs": [],
   "source": [
    "!conda env create -f tf2_cpu.yml"
   ]
  },
  {
   "cell_type": "markdown",
   "id": "c1e59e04-22cb-4f2b-8b4f-99c9b15d5e88",
   "metadata": {},
   "source": [
    "# Add the Environment Variables\n",
    "- These variables are needed for the Tensorflow Object Detection.\n",
    "- Please excute the below block, and you may check/edit the Windows environment variables if you know how."
   ]
  },
  {
   "cell_type": "code",
   "execution_count": null,
   "id": "b05bcd11-c14f-48e3-a110-09e9d8471eb6",
   "metadata": {},
   "outputs": [],
   "source": [
    "! pip install py_setenv"
   ]
  },
  {
   "cell_type": "code",
   "execution_count": null,
   "id": "c41b4c23-cbc6-4089-8a1b-4898ae28a321",
   "metadata": {},
   "outputs": [],
   "source": [
    "import os\n",
    "from py_setenv import setenv\n",
    "\n",
    "dir_path = r'C:\\Program Files\\Google Protobuf'\n",
    "vc_path = r'C:\\Program Files (x86)\\Microsoft Visual Studio 14.0\\VC'\n",
    "\n",
    "def env_variable_protobuf(dir_path):\n",
    "    dir_path = os.path.join(dir_path, 'bin')\n",
    "    setenv(\"path\", value=dir_path, append=True, user=False)\n",
    "def env_variable_VS(dir_path):\n",
    "    setenv(\"VCINSTALLDIR\", value=dir_path, user=True)    \n",
    "        \n",
    "env_variable_protobuf(dir_path)\n",
    "env_variable_VS(vc_path)"
   ]
  },
  {
   "cell_type": "markdown",
   "id": "169b053b-0470-4752-abc9-bfd82ea56765",
   "metadata": {},
   "source": [
    "# Active this new env\n",
    "- Close this JupyterLab now.\n",
    "- Close the Anaconda and open it again with administrators. \n",
    "- Choose the new env as below picture.\n",
    "- Open again the JupyterLab, and now you can install/run the following program in `obj_det_tf2_cpu` env.\n",
    "- Open the next for the following install.\n",
    "- <img src=\"tool/choose_new_env.png\" width=\"800\" height=\"500\">"
   ]
  }
 ],
 "metadata": {
  "kernelspec": {
   "display_name": "Python 3 (ipykernel)",
   "language": "python",
   "name": "python3"
  },
  "language_info": {
   "codemirror_mode": {
    "name": "ipython",
    "version": 3
   },
   "file_extension": ".py",
   "mimetype": "text/x-python",
   "name": "python",
   "nbconvert_exporter": "python",
   "pygments_lexer": "ipython3",
   "version": "3.8.13"
  },
  "toc-autonumbering": true
 },
 "nbformat": 4,
 "nbformat_minor": 5
}
