{
 "cells": [
  {
   "cell_type": "markdown",
   "id": "013bb4d1-1ee8-4c7f-88e1-fab5bdfc29af",
   "metadata": {},
   "source": [
    "# Experiment Section 1\n",
    "- create_data\n",
    "- just for you practice\n",
    "---"
   ]
  },
  {
   "cell_type": "code",
   "execution_count": null,
   "id": "27a9a5c1-c748-4b40-b632-e356c17edecc",
   "metadata": {},
   "outputs": [],
   "source": [
    "#------------------#\n",
    "# 51 app usage\n",
    "#------------------#\n",
    "dataset = foz.load_zoo_dataset(\n",
    "            'voc-2012',\n",
    "            label_types=[\"detections\"],\n",
    "            only_matching=True,\n",
    "            split=\"train\", #tran, validation, test\n",
    "            max_samples=10, #download size\n",
    "            seed=51,\n",
    "            shuffle=True,\n",
    "            dataset_dir=\"C:\\\\Users\\\\USERNAME\\\\image_detection\\\\ML_tf2_object_detection_nu\\\\image_dataset\\\\voc-2012\"\n",
    "        )\n",
    "\n",
    "if __name__ == \"__main__\":\n",
    "    # Ensures that the App processes are safely launched on Windows\n",
    "    session = fo.launch_app(dataset)\n",
    "    session.wait()"
   ]
  },
  {
   "cell_type": "code",
   "execution_count": null,
   "id": "a4e69342-4ea9-485f-af60-37c5a3ae7721",
   "metadata": {},
   "outputs": [],
   "source": [
    "#------------------#\n",
    "# Find wanted labels images in dataset by *.xml annotation file\n",
    "#------------------#\n",
    "from pathlib import Path\n",
    "import xml.etree.ElementTree as ET\n",
    "\n",
    "def find_wanted_class_byXML(img_loc, data_loc, class_list, dst_loc, number, copy_xml=False):\n",
    "    \n",
    "    count = 0\n",
    "    files = Path(data_loc).glob('*.xml')\n",
    "    for file in files:\n",
    "        if count == number:\n",
    "            break\n",
    "        \n",
    "        tree = ET.parse(file)\n",
    "        root = tree.getroot()\n",
    "        # 從字串中取得並解析 XML 資料\n",
    "        #root = ET.fromstring(country_data_as_string)\n",
    "        #print(root)\n",
    "        #print(root.tag)\n",
    "        \n",
    "        ###process xml tree data###\n",
    "        for child_annotation in root: \n",
    "            #print(child_annotation.tag, child.attrib)\n",
    "            if child_annotation.tag == 'object':\n",
    "                #print(child_annotation[0].text) \n",
    "                if child_annotation[0].text in class_list: #find the wanted label\n",
    "                    #print(root[1].text)\n",
    "                    src_img_loc = os.path.join(img_loc, root[1].text)\n",
    "                    dst_img_loc = os.path.join(dst_loc, root[1].text)\n",
    "                    shutil.copy(src_img_loc, dst_img_loc)\n",
    "                    if copy_xml:\n",
    "                        dst_xml_loc = os.path.join(dst_loc, (root[1].text.split('.')[0] + '.xml'))\n",
    "                        shutil.copy(file, dst_xml_loc)\n",
    "                    \n",
    "                    count = count+1 \n",
    "                    break\n",
    "               \n",
    "img_loc = \"C:\\\\Users\\\\USERNAME\\\\image_detection\\\\VOCdevkit\\\\VOC2012\\\\JPEGImages\"\n",
    "dir_loc = \"C:\\\\Users\\\\USERNAME\\\\image_detection\\\\VOCdevkit\\\\VOC2012\\\\Annotations\"\n",
    "dst_loc = \"C:\\\\Users\\\\USERNAME\\\\image_detection\\\\VOC_gender\"\n",
    "find_wanted_class_byXML(img_loc, dir_loc, ['person'], dst_loc, 100)    "
   ]
  }
 ],
 "metadata": {
  "kernelspec": {
   "display_name": "Python 3 (ipykernel)",
   "language": "python",
   "name": "python3"
  },
  "language_info": {
   "codemirror_mode": {
    "name": "ipython",
    "version": 3
   },
   "file_extension": ".py",
   "mimetype": "text/x-python",
   "name": "python",
   "nbconvert_exporter": "python",
   "pygments_lexer": "ipython3",
   "version": "3.8.13"
  }
 },
 "nbformat": 4,
 "nbformat_minor": 5
}
